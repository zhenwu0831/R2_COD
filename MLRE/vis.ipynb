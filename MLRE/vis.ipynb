{
 "cells": [
  {
   "cell_type": "code",
   "execution_count": 1,
   "metadata": {},
   "outputs": [
    {
     "data": {
      "image/png": "[encoded data removed]",
      "text/plain": [
       "<Figure size 720x72 with 1 Axes>"
      ]
     },
     "metadata": {},
     "output_type": "display_data"
    }
   ],
   "source": [
    "import seaborn as sns\n",
    "import matplotlib.pyplot as plt\n",
    "import pandas as pd\n",
    "import numpy as np\n",
    "\n",
    "# Sample data\n",
    "classes = ['A', 'B', 'C', 'A', 'B', 'C', 'A', 'C', 'B', 'A',\n",
    "           'C', 'B', 'A', 'C', 'B', 'A', 'B', 'C', 'A', 'B']\n",
    "\n",
    "# Convert classes to numerical labels\n",
    "class_mapping = {'A': 0, 'B': 1, 'C': 2}\n",
    "class_values = np.array([class_mapping[c] for c in classes]).reshape(1, -1)  # Reshape for heatmap\n",
    "\n",
    "# Define a color palette\n",
    "palette = {\"A\": \"red\", \"B\": \"blue\", \"C\": \"green\"}\n",
    "colors = [palette[c] for c in classes]\n",
    "\n",
    "# Plot as a heatmap\n",
    "plt.figure(figsize=(10, 1))\n",
    "sns.heatmap(class_values, cmap=colors, cbar=False, xticklabels=False, yticklabels=False)\n",
    "\n",
    "# Formatting\n",
    "plt.xlabel(\"Index\")\n",
    "plt.title(\"Class Color Bar\")\n",
    "plt.show()\n"
   ]
  },
  {
   "cell_type": "code",
   "execution_count": 6,
   "metadata": {},
   "outputs": [
    {
     "data": {
      "image/png": "[encoded data removed]",
      "text/plain": [
       "<Figure size 720x72 with 1 Axes>"
      ]
     },
     "metadata": {
      "needs_background": "light"
     },
     "output_type": "display_data"
    }
   ],
   "source": [
    "import matplotlib.pyplot as plt\n",
    "import numpy as np\n",
    "\n",
    "# Sample data: Class labels for each index\n",
    "classes = ['A', 'B', 'C', 'D', 'A', 'C', 'B', 'D', 'A', 'B',\n",
    "           'C', 'D', 'A', 'B', 'C', 'D', 'A', 'B', 'C', 'D']\n",
    "\n",
    "# Define a color mapping\n",
    "class_mapping = {'A': 'red', 'B': 'blue', 'C': 'green', 'D': 'purple'}\n",
    "colors = [class_mapping[c] for c in classes]  # Convert classes to color values\n",
    "\n",
    "# Create a figure\n",
    "fig, ax = plt.subplots(figsize=(10, 1))\n",
    "\n",
    "# Use pcolor() to create the solid color bar\n",
    "ax.pcolor(np.arange(len(classes)).reshape(1, -1), edgecolors='none', facecolors=colors)\n",
    "\n",
    "# Formatting\n",
    "ax.set_yticks([])  # Hide y-axis\n",
    "ax.set_xticks(np.arange(len(classes)) + 0.5)  # Center tick labels\n",
    "ax.set_xticklabels(range(1, len(classes) + 1), fontsize=8)  # Show index labels\n",
    "ax.set_xlabel(\"Index\")\n",
    "ax.set_title(\"Class Color Bar\")\n",
    "\n",
    "plt.show()\n"
   ]
  },
  {
   "cell_type": "code",
   "execution_count": 7,
   "metadata": {},
   "outputs": [
    {
     "data": {
      "image/png": "[encoded data removed]",
      "text/plain": [
       "<Figure size 720x72 with 1 Axes>"
      ]
     },
     "metadata": {
      "needs_background": "light"
     },
     "output_type": "display_data"
    }
   ],
   "source": [
    "import matplotlib.pyplot as plt\n",
    "import numpy as np\n",
    "\n",
    "# Sample class labels (one per index)\n",
    "classes = ['A', 'B', 'C', 'D', 'A', 'C', 'B', 'D', 'A', 'B',\n",
    "           'C', 'D', 'A', 'B', 'C', 'D', 'A', 'B', 'C', 'D']\n",
    "\n",
    "# Define a color mapping (categorical labels to specific colors)\n",
    "class_mapping = {'A': 'red', 'B': 'blue', 'C': 'green', 'D': 'purple'}\n",
    "colors = [class_mapping[c] for c in classes]  # Convert class labels to colors\n",
    "\n",
    "# Create a figure\n",
    "fig, ax = plt.subplots(figsize=(10, 1))\n",
    "\n",
    "# Plot colored bars for each index\n",
    "for i, color in enumerate(colors):\n",
    "    ax.bar(i, 1, color=color, edgecolor='none')\n",
    "\n",
    "# Formatting\n",
    "ax.set_xlim(-0.5, len(classes) - 0.5)  # Ensure bars align properly\n",
    "ax.set_yticks([])  # Hide y-axis\n",
    "ax.set_xticks(range(len(classes)))  # Set x-ticks at each index\n",
    "ax.set_xticklabels(range(1, len(classes) + 1), fontsize=8)  # Show index labels\n",
    "\n",
    "# Labels and title\n",
    "ax.set_xlabel(\"Index\")\n",
    "ax.set_title(\"Class Color Bar\")\n",
    "\n",
    "plt.show()\n"
   ]
  },
  {
   "cell_type": "code",
   "execution_count": 9,
   "metadata": {},
   "outputs": [
    {
     "data": {
      "image/png": "[encoded data removed]",
      "text/plain": [
       "<Figure size 720x72 with 1 Axes>"
      ]
     },
     "metadata": {
      "needs_background": "light"
     },
     "output_type": "display_data"
    }
   ],
   "source": [
    "import matplotlib.pyplot as plt\n",
    "\n",
    "# Sample class labels (one per index)\n",
    "classes = ['A', 'B', 'C', 'D', 'A', 'C', 'B', 'D', 'A', 'B',\n",
    "           'C', 'D', 'A', 'B', 'C', 'D', 'A', 'B', 'C', 'D']\n",
    "\n",
    "classes = classes *100\n",
    "\n",
    "# Define a color mapping (categorical labels to specific colors)\n",
    "class_mapping = {'A': 'red', 'B': 'blue', 'C': 'green', 'D': 'purple'}\n",
    "colors = [class_mapping[c] for c in classes]  # Convert class labels to colors\n",
    "\n",
    "# Create a figure\n",
    "fig, ax = plt.subplots(figsize=(10, 1))\n",
    "\n",
    "# Plot a continuous color strip using broken_barh()\n",
    "for i, color in enumerate(colors):\n",
    "    ax.broken_barh([(i, 1)], (0, 1), facecolors=color)  # (start, width), (y-position, height)\n",
    "\n",
    "# Formatting\n",
    "ax.set_xlim(0, len(classes))  # Set x-axis limits\n",
    "ax.set_ylim(0, 1)  # Keep the height consistent\n",
    "ax.set_yticks([])  # Hide y-axis\n",
    "ax.set_xticks(range(len(classes)))  # Set x-ticks at each index\n",
    "ax.set_xticklabels(range(1, len(classes) + 1), fontsize=8)  # Show index labels\n",
    "\n",
    "# Labels and title\n",
    "ax.set_xlabel(\"Index\")\n",
    "ax.set_title(\"Class Color Bar\")\n",
    "\n",
    "plt.show()\n"
   ]
  },
  {
   "cell_type": "code",
   "execution_count": 10,
   "metadata": {},
   "outputs": [
    {
     "data": {
      "image/png": "[encoded data removed]",
      "text/plain": [
       "<Figure size 720x72 with 1 Axes>"
      ]
     },
     "metadata": {
      "needs_background": "light"
     },
     "output_type": "display_data"
    }
   ],
   "source": [
    "import matplotlib.pyplot as plt\n",
    "import matplotlib.patches as patches\n",
    "\n",
    "# Sample class labels (one per index)\n",
    "classes = ['A', 'B', 'C', 'D', 'A', 'C', 'B', 'D', 'A', 'B',\n",
    "           'C', 'D', 'A', 'B', 'C', 'D', 'A', 'B', 'C', 'D']\n",
    "\n",
    "# Define a color mapping\n",
    "class_mapping = {'A': 'red', 'B': 'blue', 'C': 'green', 'D': 'purple'}\n",
    "colors = [class_mapping[c] for c in classes]  # Convert class labels to colors\n",
    "\n",
    "# Create figure and axis\n",
    "fig, ax = plt.subplots(figsize=(10, 1))\n",
    "\n",
    "# Draw colored rectangles manually to avoid gaps\n",
    "for i, color in enumerate(colors):\n",
    "    ax.add_patch(patches.Rectangle((i, 0), 1, 1, color=color))  # (x, y), width, height\n",
    "\n",
    "# Formatting\n",
    "ax.set_xlim(0, len(classes))  # Set x-axis limits\n",
    "ax.set_ylim(0, 1)  # Keep the height consistent\n",
    "ax.set_yticks([])  # Hide y-axis\n",
    "ax.set_xticks(range(len(classes)))  # Set x-ticks at each index\n",
    "ax.set_xticklabels(range(1, len(classes) + 1), fontsize=8)  # Show index labels\n",
    "\n",
    "# Remove axis borders\n",
    "ax.spines['top'].set_visible(False)\n",
    "ax.spines['right'].set_visible(False)\n",
    "ax.spines['left'].set_visible(False)\n",
    "ax.spines['bottom'].set_visible(False)\n",
    "\n",
    "# Labels and title\n",
    "ax.set_xlabel(\"Index\")\n",
    "ax.set_title(\"Class Color Bar\")\n",
    "\n",
    "plt.show()\n"
   ]
  },
  {
   "cell_type": "code",
   "execution_count": null,
   "metadata": {},
   "outputs": [],
   "source": []
  }
 ],
 "metadata": {
  "kernelspec": {
   "display_name": "SICON",
   "language": "python",
   "name": "python3"
  },
  "language_info": {
   "codemirror_mode": {
    "name": "ipython",
    "version": 3
   },
   "file_extension": ".py",
   "mimetype": "text/x-python",
   "name": "python",
   "nbconvert_exporter": "python",
   "pygments_lexer": "ipython3",
   "version": "3.9.12"
  }
 },
 "nbformat": 4,
 "nbformat_minor": 2
}
